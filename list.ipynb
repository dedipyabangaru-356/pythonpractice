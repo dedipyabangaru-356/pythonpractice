{
  "nbformat": 4,
  "nbformat_minor": 0,
  "metadata": {
    "colab": {
      "name": "list.ipynb",
      "provenance": [],
      "authorship_tag": "ABX9TyOvhczXViYiQiN9O9/fdcOp",
      "include_colab_link": true
    },
    "kernelspec": {
      "name": "python3",
      "display_name": "Python 3"
    },
    "language_info": {
      "name": "python"
    }
  },
  "cells": [
    {
      "cell_type": "markdown",
      "metadata": {
        "id": "view-in-github",
        "colab_type": "text"
      },
      "source": [
        "<a href=\"https://colab.research.google.com/github/dedipyabangaru-356/pythonpractice/blob/main/list.ipynb\" target=\"_parent\"><img src=\"https://colab.research.google.com/assets/colab-badge.svg\" alt=\"Open In Colab\"/></a>"
      ]
    },
    {
      "cell_type": "code",
      "execution_count": 26,
      "metadata": {
        "colab": {
          "base_uri": "https://localhost:8080/"
        },
        "id": "7LCLom9i4dED",
        "outputId": "9f9cb4ed-73be-4451-bcaa-1d4dbb31054b"
      },
      "outputs": [
        {
          "output_type": "stream",
          "name": "stdout",
          "text": [
            "apple strawberry mango\n",
            "['apple', 'orange', 'peach', 'strawberry', 'mango']\n",
            "strawberry\n"
          ]
        },
        {
          "output_type": "execute_result",
          "data": {
            "text/plain": [
              "['apple']"
            ]
          },
          "metadata": {},
          "execution_count": 26
        }
      ],
      "source": [
        "#writing the list\n",
        "fruit=['apple','orange','peach','strawberry','mango']\n",
        "print(fruit[0],fruit[3],fruit[-1])\n",
        "print(fruit[0:5])\n",
        "print(fruit[-2])\n",
        "fruit[:2]\n",
        "fruit[0:1]\n"
      ]
    },
    {
      "cell_type": "code",
      "source": [
        "flowers=[\"lily\",\"jasmine\",\"chamomile\",\"rose\",\"hibiscus\",\"lotus\",\"marie gold\",\"sun flower\"]\n",
        "print(\"lily\" in flowers)\n",
        "print(\"sun\" in flowers)\n",
        "print(flowers[6])\n",
        "print(len(flowers))\n"
      ],
      "metadata": {
        "colab": {
          "base_uri": "https://localhost:8080/"
        },
        "id": "bg9uV7Yg8W27",
        "outputId": "687aa6c8-e2cc-4c2e-8374-45122ae7fa46"
      },
      "execution_count": 41,
      "outputs": [
        {
          "output_type": "stream",
          "name": "stdout",
          "text": [
            "True\n",
            "False\n",
            "marie gold\n",
            "8\n"
          ]
        }
      ]
    },
    {
      "cell_type": "code",
      "source": [
        "my_list = ['p', 'r', 'o', 'b', 'l', 'e', 'm']\n",
        "print('p' in my_list)\n",
        "print('a' in my_list)\n",
        "print('c' not in my_list)\n",
        "print(my_list[0],my_list[1],my_list[2],my_list[3],my_list[4],my_list[5],my_list[6])"
      ],
      "metadata": {
        "colab": {
          "base_uri": "https://localhost:8080/"
        },
        "id": "VQaLhcao6Txc",
        "outputId": "86b7cea3-4ff9-4464-ad8a-9a4a780b0efc"
      },
      "execution_count": 43,
      "outputs": [
        {
          "output_type": "stream",
          "name": "stdout",
          "text": [
            "True\n",
            "False\n",
            "True\n",
            "p r o b l e m\n"
          ]
        }
      ]
    },
    {
      "cell_type": "code",
      "source": [
        "fruit=['kiwi','mango','pear','custurd apple','grapes']\n",
        "print(fruit)\n",
        "fruit.append('cherry')\n",
        "print(fruit)\n",
        "fruit.insert(-3,'peach')\n",
        "fruit.insert(-4,'plum')\n",
        "print(fruit)\n",
        "fruit[2]='gauva'\n",
        "print(fruit)\n",
        "fruit[:]=[1,2,3,4,5,6,7,8,9,10]\n",
        "print(fruit)\n",
        "print(fruit[:4])"
      ],
      "metadata": {
        "colab": {
          "base_uri": "https://localhost:8080/"
        },
        "id": "FToqylgCHo_k",
        "outputId": "f5be29fa-ed24-4626-8d40-1d809805f8dc"
      },
      "execution_count": 63,
      "outputs": [
        {
          "output_type": "stream",
          "name": "stdout",
          "text": [
            "['kiwi', 'mango', 'pear', 'custurd apple', 'grapes']\n",
            "['kiwi', 'mango', 'pear', 'custurd apple', 'grapes', 'cherry']\n",
            "['kiwi', 'mango', 'pear', 'plum', 'peach', 'custurd apple', 'grapes', 'cherry']\n",
            "['kiwi', 'mango', 'gauva', 'plum', 'peach', 'custurd apple', 'grapes', 'cherry']\n",
            "[1, 2, 3, 4, 5, 6, 7, 8, 9, 10]\n",
            "[1, 2, 3, 4]\n"
          ]
        }
      ]
    },
    {
      "cell_type": "code",
      "source": [
        "f=['kiwi', 'mango', 'pear', 'custurd apple', 'grapes']\n",
        "a = f.index('pear')\n",
        "print(a)\n"
      ],
      "metadata": {
        "colab": {
          "base_uri": "https://localhost:8080/"
        },
        "id": "MN3tBiNnM2w7",
        "outputId": "dfd3a7ca-20a9-4db6-bb8e-4aa25fd8f493"
      },
      "execution_count": 72,
      "outputs": [
        {
          "output_type": "stream",
          "name": "stdout",
          "text": [
            "2\n"
          ]
        }
      ]
    },
    {
      "cell_type": "code",
      "source": [
        "#sort\n",
        "set=[1,354,87,212334,565,333,234]\n",
        "set.sort()\n",
        "print(set)"
      ],
      "metadata": {
        "colab": {
          "base_uri": "https://localhost:8080/"
        },
        "id": "lenLryd7L7Y9",
        "outputId": "d34ba7dc-6fa6-4f4d-8589-e75f9cf4702c"
      },
      "execution_count": 68,
      "outputs": [
        {
          "output_type": "stream",
          "name": "stdout",
          "text": [
            "[1, 87, 234, 333, 354, 565, 212334]\n"
          ]
        }
      ]
    }
  ]
}