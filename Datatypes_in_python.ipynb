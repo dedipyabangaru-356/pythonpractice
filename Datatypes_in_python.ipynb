{
 "cells": [
  {
   "cell_type": "markdown",
   "id": "b12f3ce3",
   "metadata": {},
   "source": [
    "# converting int to string,float,boolean,complex\n"
   ]
  },
  {
   "cell_type": "code",
   "execution_count": 14,
   "id": "7c163ef0",
   "metadata": {},
   "outputs": [
    {
     "name": "stdout",
     "output_type": "stream",
     "text": [
      "8\n",
      "<class 'int'>\n",
      "8\n",
      "<class 'str'>\n",
      "True\n",
      "<class 'bool'>\n",
      "8.0\n",
      "<class 'float'>\n",
      "(8+0j)\n",
      "<class 'complex'>\n"
     ]
    }
   ],
   "source": [
    "a=8\n",
    "print(a)\n",
    "print(type(a))\n",
    "b=str(a)\n",
    "print(b)\n",
    "print(type(b))\n",
    "c=bool(a)\n",
    "print(c)\n",
    "print(type(c))\n",
    "d=float(a)\n",
    "print(d)\n",
    "print(type(d))\n",
    "e=complex(a)\n",
    "print(e)\n",
    "print(type(e))"
   ]
  },
  {
   "cell_type": "code",
   "execution_count": 27,
   "id": "dea0613d",
   "metadata": {
    "scrolled": true
   },
   "outputs": [
    {
     "name": "stdout",
     "output_type": "stream",
     "text": [
      "10\n",
      "<class 'str'>\n",
      "10\n",
      "<class 'int'>\n",
      "10.0\n",
      "False\n",
      "<class 'bool'>\n",
      "(10+0j)\n"
     ]
    }
   ],
   "source": [
    "a='10'\n",
    "b=str(a)\n",
    "print(b)\n",
    "print(type(b))\n",
    "c=''\n",
    "d=int(b)\n",
    "print(d)\n",
    "print(type(d))\n",
    "#hey you letters cannot convert into digits\n",
    "e=float(a)\n",
    "print(e)\n",
    "g=bool(c)\n",
    "print(g)\n",
    "print(type(g))\n",
    "f=complex(e)\n",
    "print(f)\n",
    "\n"
   ]
  },
  {
   "cell_type": "code",
   "execution_count": 28,
   "id": "1e8c84e9",
   "metadata": {},
   "outputs": [
    {
     "name": "stdout",
     "output_type": "stream",
     "text": [
      "10.0\n",
      "<class 'float'>\n",
      "(10+0j)\n",
      "<class 'complex'>\n"
     ]
    }
   ],
   "source": [
    "a='10'\n",
    "e=float(a)\n",
    "print(e)\n",
    "print(type(e))\n",
    "f=complex(e)\n",
    "print(f)\n",
    "print(type(f))\n"
   ]
  },
  {
   "cell_type": "code",
   "execution_count": null,
   "id": "c869c233",
   "metadata": {},
   "outputs": [],
   "source": []
  }
 ],
 "metadata": {
  "kernelspec": {
   "display_name": "Python 3 (ipykernel)",
   "language": "python",
   "name": "python3"
  },
  "language_info": {
   "codemirror_mode": {
    "name": "ipython",
    "version": 3
   },
   "file_extension": ".py",
   "mimetype": "text/x-python",
   "name": "python",
   "nbconvert_exporter": "python",
   "pygments_lexer": "ipython3",
   "version": "3.9.7"
  }
 },
 "nbformat": 4,
 "nbformat_minor": 5
}
