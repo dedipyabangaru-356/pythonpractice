{
  "cells": [
    {
      "cell_type": "markdown",
      "metadata": {
        "id": "view-in-github",
        "colab_type": "text"
      },
      "source": [
        "<a href=\"https://colab.research.google.com/github/dedipyabangaru-356/pythonpractice/blob/main/Datatypes_in_python.ipynb\" target=\"_parent\"><img src=\"https://colab.research.google.com/assets/colab-badge.svg\" alt=\"Open In Colab\"/></a>"
      ]
    },
    {
      "cell_type": "markdown",
      "id": "b12f3ce3",
      "metadata": {
        "id": "b12f3ce3"
      },
      "source": [
        "# converting int to string,float,boolean,complex\n"
      ]
    },
    {
      "cell_type": "code",
      "execution_count": null,
      "id": "7c163ef0",
      "metadata": {
        "colab": {
          "base_uri": "https://localhost:8080/"
        },
        "id": "7c163ef0",
        "outputId": "d23ca18f-2e7b-45bf-e568-c40171be8a83"
      },
      "outputs": [
        {
          "output_type": "stream",
          "name": "stdout",
          "text": [
            "8\n",
            "<class 'int'>\n",
            "8\n",
            "<class 'str'>\n",
            "True\n",
            "<class 'bool'>\n",
            "8.0\n",
            "<class 'float'>\n",
            "(8+0j)\n",
            "<class 'complex'>\n"
          ]
        }
      ],
      "source": [
        "a=8\n",
        "print(a)\n",
        "print(type(a))\n",
        "b=str(a)\n",
        "print(b)\n",
        "print(type(b))\n",
        "c=bool(a)\n",
        "print(c)\n",
        "print(type(c))\n",
        "d=float(a)\n",
        "print(d)\n",
        "print(type(d))\n",
        "e=complex(a)\n",
        "print(e)\n",
        "print(type(e))"
      ]
    },
    {
      "cell_type": "code",
      "execution_count": null,
      "id": "dea0613d",
      "metadata": {
        "scrolled": true,
        "colab": {
          "base_uri": "https://localhost:8080/"
        },
        "id": "dea0613d",
        "outputId": "a8caf31f-688a-4d1b-f85b-df309946e069"
      },
      "outputs": [
        {
          "output_type": "stream",
          "name": "stdout",
          "text": [
            "10\n",
            "<class 'str'>\n",
            "10\n",
            "<class 'int'>\n",
            "10.0\n",
            "False\n",
            "<class 'bool'>\n",
            "(10+0j)\n"
          ]
        }
      ],
      "source": [
        "a='10'\n",
        "b=str(a)\n",
        "print(b)\n",
        "print(type(b))\n",
        "c=''\n",
        "d=int(b)\n",
        "print(d)\n",
        "print(type(d))\n",
        "#hey you letters cannot convert into digits\n",
        "e=float(a)\n",
        "print(e)\n",
        "g=bool(c)\n",
        "print(g)\n",
        "print(type(g))\n",
        "f=complex(e)\n",
        "print(f)\n",
        "\n"
      ]
    },
    {
      "cell_type": "code",
      "source": [
        ""
      ],
      "metadata": {
        "id": "KpRnv8PErxVC"
      },
      "id": "KpRnv8PErxVC",
      "execution_count": null,
      "outputs": []
    },
    {
      "cell_type": "markdown",
      "source": [
        ""
      ],
      "metadata": {
        "id": "zQYhcriNrw98"
      },
      "id": "zQYhcriNrw98"
    },
    {
      "cell_type": "code",
      "execution_count": null,
      "id": "1e8c84e9",
      "metadata": {
        "id": "1e8c84e9",
        "outputId": "fbc57a85-b739-49d3-a612-93505cdaa89d"
      },
      "outputs": [
        {
          "name": "stdout",
          "output_type": "stream",
          "text": [
            "10.0\n",
            "<class 'float'>\n",
            "(10+0j)\n",
            "<class 'complex'>\n"
          ]
        }
      ],
      "source": [
        "a='10'\n",
        "e=float(a)\n",
        "print(e)\n",
        "print(type(e))\n",
        "f=complex(e)\n",
        "print(f)\n",
        "print(type(f))\n"
      ]
    },
    {
      "cell_type": "code",
      "execution_count": null,
      "id": "c869c233",
      "metadata": {
        "id": "c869c233"
      },
      "outputs": [],
      "source": [
        ""
      ]
    }
  ],
  "metadata": {
    "kernelspec": {
      "display_name": "Python 3 (ipykernel)",
      "language": "python",
      "name": "python3"
    },
    "language_info": {
      "codemirror_mode": {
        "name": "ipython",
        "version": 3
      },
      "file_extension": ".py",
      "mimetype": "text/x-python",
      "name": "python",
      "nbconvert_exporter": "python",
      "pygments_lexer": "ipython3",
      "version": "3.9.7"
    },
    "colab": {
      "name": "Datatypes_in_python.ipynb",
      "provenance": [],
      "collapsed_sections": [],
      "include_colab_link": true
    }
  },
  "nbformat": 4,
  "nbformat_minor": 5
}