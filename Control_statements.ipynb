{
  "nbformat": 4,
  "nbformat_minor": 0,
  "metadata": {
    "colab": {
      "name": "Control statements.ipynb",
      "provenance": [],
      "collapsed_sections": [],
      "authorship_tag": "ABX9TyMo/zvXHtiirhS5JSYxC+bo",
      "include_colab_link": true
    },
    "kernelspec": {
      "name": "python3",
      "display_name": "Python 3"
    },
    "language_info": {
      "name": "python"
    }
  },
  "cells": [
    {
      "cell_type": "markdown",
      "metadata": {
        "id": "view-in-github",
        "colab_type": "text"
      },
      "source": [
        "<a href=\"https://colab.research.google.com/github/dedipyabangaru-356/pythonpractice/blob/main/Control_statements.ipynb\" target=\"_parent\"><img src=\"https://colab.research.google.com/assets/colab-badge.svg\" alt=\"Open In Colab\"/></a>"
      ]
    },
    {
      "cell_type": "code",
      "execution_count": null,
      "metadata": {
        "id": "uJE2u--RIvO8",
        "colab": {
          "base_uri": "https://localhost:8080/"
        },
        "outputId": "b0d9a367-18c4-4a98-b361-2bf72486b768"
      },
      "outputs": [
        {
          "output_type": "stream",
          "name": "stdout",
          "text": [
            "18\n",
            "eligible\n"
          ]
        }
      ],
      "source": [
        "#voting eligibility\n",
        "a=input()\n",
        "a=int(a)\n",
        "if a>=18:\n",
        "  print(\"eligible\")\n",
        "else :\n",
        "  print(\"not eligible\")"
      ]
    },
    {
      "cell_type": "code",
      "source": [
        "#max of three num's\n",
        "#dynamic\n",
        "a=input(\"a=\")\n",
        "a=int(a)\n",
        "b=int(input(\"b=\"))\n",
        "c=int(input(\"c=\"))\n",
        "if a>b and a>c :\n",
        "  print(\"a is greatest\")\n",
        "elif b>c and b>a :\n",
        "  print(\"b is greatest\")\n",
        "else :\n",
        "  print(\"c is greatest\")\n",
        "\n"
      ],
      "metadata": {
        "colab": {
          "base_uri": "https://localhost:8080/"
        },
        "id": "g2o7RszXRuiB",
        "outputId": "61b7999f-0db5-4156-fb76-22294a316e3c"
      },
      "execution_count": null,
      "outputs": [
        {
          "output_type": "stream",
          "name": "stdout",
          "text": [
            "a=3\n",
            "b=6\n",
            "c=13\n",
            "c is greatest\n"
          ]
        }
      ]
    },
    {
      "cell_type": "code",
      "source": [
        "#types of triangles\n",
        "s1=int(input(\"s1=\"))\n",
        "s2=int(input(\"s2=\"))\n",
        "s3=int(input(\"s3=\"))\n",
        "if s1==s2==s3:\n",
        "  print(\"equilateral\")\n",
        "elif s1!=s2 and s2!=s3 and s3!=s1:\n",
        "  print(\"scalene\")\n",
        "elif s1==s2 or s2==s3 or s3==s1:\n",
        "  print(\"isoceles\")\n",
        "\n"
      ],
      "metadata": {
        "id": "L-v8D4iPUGsB",
        "colab": {
          "base_uri": "https://localhost:8080/"
        },
        "outputId": "c0a7e38a-3578-4453-85e1-870a6645102b"
      },
      "execution_count": 41,
      "outputs": [
        {
          "output_type": "stream",
          "name": "stdout",
          "text": [
            "s1=1\n",
            "s2=1\n",
            "s3=1\n",
            "equilateral\n"
          ]
        }
      ]
    },
    {
      "cell_type": "code",
      "source": [
        ""
      ],
      "metadata": {
        "id": "JcrkGzQ-dIsE"
      },
      "execution_count": 39,
      "outputs": []
    }
  ]
}